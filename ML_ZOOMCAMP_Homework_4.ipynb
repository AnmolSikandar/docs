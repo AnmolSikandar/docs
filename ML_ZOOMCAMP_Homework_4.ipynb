{
  "cells": [
    {
      "cell_type": "markdown",
      "metadata": {
        "id": "view-in-github",
        "colab_type": "text"
      },
      "source": [
        "<a href=\"https://colab.research.google.com/github/AnmolSikandar/docs/blob/main/ML_ZOOMCAMP_Homework_4.ipynb\" target=\"_parent\"><img src=\"https://colab.research.google.com/assets/colab-badge.svg\" alt=\"Open In Colab\"/></a>"
      ]
    },
    {
      "cell_type": "markdown",
      "metadata": {
        "id": "mAKc66WIUQ4h"
      },
      "source": [
        "Dataset Preparation:\n",
        "Download and unzip the **dataset**: The dataset is hosted online. We can use the wget command to download it. Then, we unzip it to extract the required files:"
      ]
    },
    {
      "cell_type": "code",
      "execution_count": 3,
      "metadata": {
        "colab": {
          "base_uri": "https://localhost:8080/",
          "height": 73
        },
        "id": "GYs3aaNkUnzo",
        "outputId": "a799c2ca-50d8-49b8-9337-28f0048ab18e"
      },
      "outputs": [
        {
          "output_type": "display_data",
          "data": {
            "text/plain": [
              "<IPython.core.display.HTML object>"
            ],
            "text/html": [
              "\n",
              "     <input type=\"file\" id=\"files-bb4b158d-9faf-4f2e-aca0-939d34955a22\" name=\"files[]\" multiple disabled\n",
              "        style=\"border:none\" />\n",
              "     <output id=\"result-bb4b158d-9faf-4f2e-aca0-939d34955a22\">\n",
              "      Upload widget is only available when the cell has been executed in the\n",
              "      current browser session. Please rerun this cell to enable.\n",
              "      </output>\n",
              "      <script>// Copyright 2017 Google LLC\n",
              "//\n",
              "// Licensed under the Apache License, Version 2.0 (the \"License\");\n",
              "// you may not use this file except in compliance with the License.\n",
              "// You may obtain a copy of the License at\n",
              "//\n",
              "//      http://www.apache.org/licenses/LICENSE-2.0\n",
              "//\n",
              "// Unless required by applicable law or agreed to in writing, software\n",
              "// distributed under the License is distributed on an \"AS IS\" BASIS,\n",
              "// WITHOUT WARRANTIES OR CONDITIONS OF ANY KIND, either express or implied.\n",
              "// See the License for the specific language governing permissions and\n",
              "// limitations under the License.\n",
              "\n",
              "/**\n",
              " * @fileoverview Helpers for google.colab Python module.\n",
              " */\n",
              "(function(scope) {\n",
              "function span(text, styleAttributes = {}) {\n",
              "  const element = document.createElement('span');\n",
              "  element.textContent = text;\n",
              "  for (const key of Object.keys(styleAttributes)) {\n",
              "    element.style[key] = styleAttributes[key];\n",
              "  }\n",
              "  return element;\n",
              "}\n",
              "\n",
              "// Max number of bytes which will be uploaded at a time.\n",
              "const MAX_PAYLOAD_SIZE = 100 * 1024;\n",
              "\n",
              "function _uploadFiles(inputId, outputId) {\n",
              "  const steps = uploadFilesStep(inputId, outputId);\n",
              "  const outputElement = document.getElementById(outputId);\n",
              "  // Cache steps on the outputElement to make it available for the next call\n",
              "  // to uploadFilesContinue from Python.\n",
              "  outputElement.steps = steps;\n",
              "\n",
              "  return _uploadFilesContinue(outputId);\n",
              "}\n",
              "\n",
              "// This is roughly an async generator (not supported in the browser yet),\n",
              "// where there are multiple asynchronous steps and the Python side is going\n",
              "// to poll for completion of each step.\n",
              "// This uses a Promise to block the python side on completion of each step,\n",
              "// then passes the result of the previous step as the input to the next step.\n",
              "function _uploadFilesContinue(outputId) {\n",
              "  const outputElement = document.getElementById(outputId);\n",
              "  const steps = outputElement.steps;\n",
              "\n",
              "  const next = steps.next(outputElement.lastPromiseValue);\n",
              "  return Promise.resolve(next.value.promise).then((value) => {\n",
              "    // Cache the last promise value to make it available to the next\n",
              "    // step of the generator.\n",
              "    outputElement.lastPromiseValue = value;\n",
              "    return next.value.response;\n",
              "  });\n",
              "}\n",
              "\n",
              "/**\n",
              " * Generator function which is called between each async step of the upload\n",
              " * process.\n",
              " * @param {string} inputId Element ID of the input file picker element.\n",
              " * @param {string} outputId Element ID of the output display.\n",
              " * @return {!Iterable<!Object>} Iterable of next steps.\n",
              " */\n",
              "function* uploadFilesStep(inputId, outputId) {\n",
              "  const inputElement = document.getElementById(inputId);\n",
              "  inputElement.disabled = false;\n",
              "\n",
              "  const outputElement = document.getElementById(outputId);\n",
              "  outputElement.innerHTML = '';\n",
              "\n",
              "  const pickedPromise = new Promise((resolve) => {\n",
              "    inputElement.addEventListener('change', (e) => {\n",
              "      resolve(e.target.files);\n",
              "    });\n",
              "  });\n",
              "\n",
              "  const cancel = document.createElement('button');\n",
              "  inputElement.parentElement.appendChild(cancel);\n",
              "  cancel.textContent = 'Cancel upload';\n",
              "  const cancelPromise = new Promise((resolve) => {\n",
              "    cancel.onclick = () => {\n",
              "      resolve(null);\n",
              "    };\n",
              "  });\n",
              "\n",
              "  // Wait for the user to pick the files.\n",
              "  const files = yield {\n",
              "    promise: Promise.race([pickedPromise, cancelPromise]),\n",
              "    response: {\n",
              "      action: 'starting',\n",
              "    }\n",
              "  };\n",
              "\n",
              "  cancel.remove();\n",
              "\n",
              "  // Disable the input element since further picks are not allowed.\n",
              "  inputElement.disabled = true;\n",
              "\n",
              "  if (!files) {\n",
              "    return {\n",
              "      response: {\n",
              "        action: 'complete',\n",
              "      }\n",
              "    };\n",
              "  }\n",
              "\n",
              "  for (const file of files) {\n",
              "    const li = document.createElement('li');\n",
              "    li.append(span(file.name, {fontWeight: 'bold'}));\n",
              "    li.append(span(\n",
              "        `(${file.type || 'n/a'}) - ${file.size} bytes, ` +\n",
              "        `last modified: ${\n",
              "            file.lastModifiedDate ? file.lastModifiedDate.toLocaleDateString() :\n",
              "                                    'n/a'} - `));\n",
              "    const percent = span('0% done');\n",
              "    li.appendChild(percent);\n",
              "\n",
              "    outputElement.appendChild(li);\n",
              "\n",
              "    const fileDataPromise = new Promise((resolve) => {\n",
              "      const reader = new FileReader();\n",
              "      reader.onload = (e) => {\n",
              "        resolve(e.target.result);\n",
              "      };\n",
              "      reader.readAsArrayBuffer(file);\n",
              "    });\n",
              "    // Wait for the data to be ready.\n",
              "    let fileData = yield {\n",
              "      promise: fileDataPromise,\n",
              "      response: {\n",
              "        action: 'continue',\n",
              "      }\n",
              "    };\n",
              "\n",
              "    // Use a chunked sending to avoid message size limits. See b/62115660.\n",
              "    let position = 0;\n",
              "    do {\n",
              "      const length = Math.min(fileData.byteLength - position, MAX_PAYLOAD_SIZE);\n",
              "      const chunk = new Uint8Array(fileData, position, length);\n",
              "      position += length;\n",
              "\n",
              "      const base64 = btoa(String.fromCharCode.apply(null, chunk));\n",
              "      yield {\n",
              "        response: {\n",
              "          action: 'append',\n",
              "          file: file.name,\n",
              "          data: base64,\n",
              "        },\n",
              "      };\n",
              "\n",
              "      let percentDone = fileData.byteLength === 0 ?\n",
              "          100 :\n",
              "          Math.round((position / fileData.byteLength) * 100);\n",
              "      percent.textContent = `${percentDone}% done`;\n",
              "\n",
              "    } while (position < fileData.byteLength);\n",
              "  }\n",
              "\n",
              "  // All done.\n",
              "  yield {\n",
              "    response: {\n",
              "      action: 'complete',\n",
              "    }\n",
              "  };\n",
              "}\n",
              "\n",
              "scope.google = scope.google || {};\n",
              "scope.google.colab = scope.google.colab || {};\n",
              "scope.google.colab._files = {\n",
              "  _uploadFiles,\n",
              "  _uploadFilesContinue,\n",
              "};\n",
              "})(self);\n",
              "</script> "
            ]
          },
          "metadata": {}
        },
        {
          "output_type": "stream",
          "name": "stdout",
          "text": [
            "Saving bank.csv to bank.csv\n"
          ]
        }
      ],
      "source": [
        "from google.colab import files\n",
        "\n",
        "# Upload the CSV file\n",
        "uploaded = files.upload()\n"
      ]
    },
    {
      "cell_type": "code",
      "execution_count": 4,
      "metadata": {
        "colab": {
          "base_uri": "https://localhost:8080/"
        },
        "id": "j2K_7rOXXsLD",
        "outputId": "9e29311d-2da0-4a36-da22-daaeb2fb25b3"
      },
      "outputs": [
        {
          "output_type": "stream",
          "name": "stdout",
          "text": [
            "  age,job,marital,education,default,balance,housing,loan,contact,day,month,duration,campaign,pdays,previous,poutcome,deposit\n",
            "0  59,admin.,married,secondary,no,2343,yes,no,unk...                                                                        \n",
            "1  56,admin.,married,secondary,no,45,no,no,unknow...                                                                        \n",
            "2  41,technician,married,secondary,no,1270,yes,no...                                                                        \n",
            "3  55,services,married,secondary,no,2476,yes,no,u...                                                                        \n",
            "4  54,admin.,married,tertiary,no,184,no,no,unknow...                                                                        \n"
          ]
        }
      ],
      "source": [
        "import pandas as pd\n",
        "\n",
        "# Load the dataset\n",
        "df = pd.read_csv('bank.csv', sep=';')\n",
        "\n",
        "# Display the first few rows to ensure it's loaded correctly\n",
        "print(df.head())\n"
      ]
    },
    {
      "cell_type": "code",
      "source": [
        "# Reload the dataset with the proper delimiter (semicolon)\n",
        "df = pd.read_csv('bank.csv', sep=',')\n",
        "\n",
        "# Display the first few rows to confirm the dataset is loaded correctly\n",
        "print(df.head())\n"
      ],
      "metadata": {
        "colab": {
          "base_uri": "https://localhost:8080/"
        },
        "id": "BPvX4QyOhHKm",
        "outputId": "5fc01a28-02c8-4b09-bc53-916e7df003e3"
      },
      "execution_count": 7,
      "outputs": [
        {
          "output_type": "stream",
          "name": "stdout",
          "text": [
            "   age         job  marital  education default  balance housing loan  contact  \\\n",
            "0   59      admin.  married  secondary      no     2343     yes   no  unknown   \n",
            "1   56      admin.  married  secondary      no       45      no   no  unknown   \n",
            "2   41  technician  married  secondary      no     1270     yes   no  unknown   \n",
            "3   55    services  married  secondary      no     2476     yes   no  unknown   \n",
            "4   54      admin.  married   tertiary      no      184      no   no  unknown   \n",
            "\n",
            "   day month  duration  campaign  pdays  previous poutcome deposit  \n",
            "0    5   may      1042         1     -1         0  unknown     yes  \n",
            "1    5   may      1467         1     -1         0  unknown     yes  \n",
            "2    5   may      1389         1     -1         0  unknown     yes  \n",
            "3    5   may       579         1     -1         0  unknown     yes  \n",
            "4    5   may       673         2     -1         0  unknown     yes  \n"
          ]
        }
      ]
    },
    {
      "cell_type": "code",
      "source": [
        "columns = [\n",
        "    'age', 'job', 'marital', 'education', 'balance', 'housing',\n",
        "    'contact', 'day', 'month', 'duration', 'campaign', 'pdays',\n",
        "    'previous', 'poutcome', 'deposit'  # Note 'deposit' instead of 'y'\n",
        "]\n",
        "df = df[columns]\n",
        "\n",
        "# Convert the target variable 'deposit' into binary (0 and 1)\n",
        "df['deposit'] = df['deposit'].map({'yes': 1, 'no': 0})\n",
        "\n",
        "# Split the data into train, validation, and test sets\n",
        "from sklearn.model_selection import train_test_split\n",
        "\n",
        "df_full_train, df_test = train_test_split(df, test_size=0.2, random_state=1)\n",
        "df_train, df_val = train_test_split(df_full_train, test_size=0.25, random_state=1)  # 0.25 x 0.8 = 0.2\n",
        "\n",
        "# Display the shapes of the datasets\n",
        "print(f'Train shape: {df_train.shape}, Validation shape: {df_val.shape}, Test shape: {df_test.shape}')\n"
      ],
      "metadata": {
        "colab": {
          "base_uri": "https://localhost:8080/"
        },
        "id": "eIdtdmEnV6nJ",
        "outputId": "aba64012-78c4-4ca6-963d-cc31f3cee620"
      },
      "execution_count": 8,
      "outputs": [
        {
          "output_type": "stream",
          "name": "stderr",
          "text": [
            "<ipython-input-8-df5fd62074c2>:9: SettingWithCopyWarning: \n",
            "A value is trying to be set on a copy of a slice from a DataFrame.\n",
            "Try using .loc[row_indexer,col_indexer] = value instead\n",
            "\n",
            "See the caveats in the documentation: https://pandas.pydata.org/pandas-docs/stable/user_guide/indexing.html#returning-a-view-versus-a-copy\n",
            "  df['deposit'] = df['deposit'].map({'yes': 1, 'no': 0})\n"
          ]
        },
        {
          "output_type": "stream",
          "name": "stdout",
          "text": [
            "Train shape: (6696, 15), Validation shape: (2233, 15), Test shape: (2233, 15)\n"
          ]
        }
      ]
    },
    {
      "cell_type": "code",
      "source": [
        "# Safely modify the 'deposit' column to binary using .loc[]\n",
        "df.loc[:, 'deposit'] = df['deposit'].map({'yes': 1, 'no': 0})\n",
        "\n",
        "# Confirm the changes\n",
        "print(df.head())\n"
      ],
      "metadata": {
        "colab": {
          "base_uri": "https://localhost:8080/"
        },
        "id": "qTUdhh4YWTJ2",
        "outputId": "30097158-64e7-4c34-a9c0-58e7d40e46a0"
      },
      "execution_count": 9,
      "outputs": [
        {
          "output_type": "stream",
          "name": "stdout",
          "text": [
            "   age         job  marital  education  balance housing  contact  day month  \\\n",
            "0   59      admin.  married  secondary     2343     yes  unknown    5   may   \n",
            "1   56      admin.  married  secondary       45      no  unknown    5   may   \n",
            "2   41  technician  married  secondary     1270     yes  unknown    5   may   \n",
            "3   55    services  married  secondary     2476     yes  unknown    5   may   \n",
            "4   54      admin.  married   tertiary      184      no  unknown    5   may   \n",
            "\n",
            "   duration  campaign  pdays  previous poutcome  deposit  \n",
            "0      1042         1     -1         0  unknown      NaN  \n",
            "1      1467         1     -1         0  unknown      NaN  \n",
            "2      1389         1     -1         0  unknown      NaN  \n",
            "3       579         1     -1         0  unknown      NaN  \n",
            "4       673         2     -1         0  unknown      NaN  \n"
          ]
        },
        {
          "output_type": "stream",
          "name": "stderr",
          "text": [
            "<ipython-input-9-587c6dc25ccb>:2: FutureWarning: Setting an item of incompatible dtype is deprecated and will raise in a future error of pandas. Value '[nan nan nan ... nan nan nan]' has dtype incompatible with int64, please explicitly cast to a compatible dtype first.\n",
            "  df.loc[:, 'deposit'] = df['deposit'].map({'yes': 1, 'no': 0})\n"
          ]
        }
      ]
    },
    {
      "cell_type": "markdown",
      "source": [
        "Question 1: ROC AUC feature importance\n",
        "ROC AUC could also be used to evaluate feature importance of numerical variables.\n",
        "\n",
        "Let's do that\n",
        "\n",
        "For each numerical variable, use it as score (aka prediction) and compute the AUC with the y variable as ground truth.\n",
        "Use the training dataset for that\n",
        "If your AUC is < 0.5, invert this variable by putting \"-\" in front\n",
        "\n",
        "(e.g. -df_train['engine_hp'])\n",
        "\n",
        "AUC can go below 0.5 if the variable is negatively correlated with the target variable. You can change the direction of the correlation by negating this variable - then negative correlation becomes positive.\n",
        "\n",
        "Which numerical variable (among the following 4) has the highest AUC?\n",
        "\n",
        "balance\n",
        "day\n",
        "duration\n",
        "previous\n"
      ],
      "metadata": {
        "id": "qY0Lh7dfXNlq"
      }
    },
    {
      "cell_type": "code",
      "source": [
        "from sklearn.metrics import roc_auc_score\n",
        "\n",
        "# List of numerical features to assess\n",
        "numerical_features = ['balance', 'day', 'duration', 'previous']\n",
        "\n",
        "# Calculate AUC for each feature\n",
        "for feature in numerical_features:\n",
        "    auc = roc_auc_score(df_train['deposit'], df_train[feature])\n",
        "    print(f'AUC of {feature}: {auc:.3f}')\n",
        "\n",
        "    # If AUC is less than 0.5, invert the feature\n",
        "    if auc < 0.5:\n",
        "        auc = roc_auc_score(df_train['deposit'], -df_train[feature])\n",
        "        print(f'Inverted AUC of {feature}: {auc:.3f}')\n"
      ],
      "metadata": {
        "colab": {
          "base_uri": "https://localhost:8080/"
        },
        "id": "J-2c1SMmXp4O",
        "outputId": "6ab4fb87-7ebc-4d61-d431-bdaba3bacb4d"
      },
      "execution_count": 10,
      "outputs": [
        {
          "output_type": "stream",
          "name": "stdout",
          "text": [
            "AUC of balance: 0.592\n",
            "AUC of day: 0.466\n",
            "Inverted AUC of day: 0.534\n",
            "AUC of duration: 0.807\n",
            "AUC of previous: 0.599\n"
          ]
        }
      ]
    },
    {
      "cell_type": "markdown",
      "source": [
        "Answer: Duration"
      ],
      "metadata": {
        "id": "v7dAL1MoYEdb"
      }
    },
    {
      "cell_type": "markdown",
      "source": [
        "Question 2: Training the model\n",
        "Apply one-hot-encoding using DictVectorizer and train the logistic regression with these parameters:\n",
        "\n",
        "LogisticRegression(solver='liblinear', C=1.0, max_iter=1000)\n",
        "What's the AUC of this model on the validation dataset? (round to 3 digits)\n",
        "\n",
        "0.69\n",
        "0.79\n",
        "0.89\n",
        "0.99"
      ],
      "metadata": {
        "id": "8VERPFkeYNTx"
      }
    },
    {
      "cell_type": "code",
      "source": [
        "from sklearn.feature_extraction import DictVectorizer\n",
        "from sklearn.linear_model import LogisticRegression\n",
        "from sklearn.metrics import roc_auc_score\n",
        "\n",
        "# Prepare the dataset for one-hot encoding\n",
        "train_dict = df_train.to_dict(orient='records')\n",
        "val_dict = df_val.to_dict(orient='records')\n",
        "\n",
        "# One-hot encoding with DictVectorizer\n",
        "dv = DictVectorizer(sparse=False)\n",
        "X_train = dv.fit_transform(train_dict)\n",
        "X_val = dv.transform(val_dict)\n",
        "\n",
        "# Train Logistic Regression model\n",
        "model = LogisticRegression(solver='liblinear', C=1.0, max_iter=1000)\n",
        "model.fit(X_train, df_train['deposit'])\n",
        "\n",
        "# Make predictions and calculate AUC on validation set\n",
        "y_pred = model.predict_proba(X_val)[:, 1]\n",
        "val_auc = roc_auc_score(df_val['deposit'], y_pred)\n",
        "\n",
        "print(f'AUC on validation set: {val_auc:.3f}')\n"
      ],
      "metadata": {
        "colab": {
          "base_uri": "https://localhost:8080/"
        },
        "id": "n9OR-4lNYpf8",
        "outputId": "6a220010-1666-42a7-8d2a-a0a9cdb8bc0e"
      },
      "execution_count": 11,
      "outputs": [
        {
          "output_type": "stream",
          "name": "stdout",
          "text": [
            "AUC on validation set: 1.000\n"
          ]
        }
      ]
    },
    {
      "cell_type": "markdown",
      "source": [
        "Answer: 0.99"
      ],
      "metadata": {
        "id": "4-Di3IdJY5kC"
      }
    },
    {
      "cell_type": "markdown",
      "source": [
        "Question 3: Precision and Recall\n",
        "Now let's compute precision and recall for our model.\n",
        "\n",
        "Evaluate the model on all thresholds from 0.0 to 1.0 with step 0.01\n",
        "For each threshold, compute precision and recall\n",
        "Plot them\n",
        "At which threshold precision and recall curves intersect?\n",
        "\n",
        "0.265\n",
        "0.465\n",
        "0.665\n",
        "0.865"
      ],
      "metadata": {
        "id": "qO_oJllwY_i4"
      }
    },
    {
      "cell_type": "code",
      "source": [
        "import numpy as np\n",
        "import matplotlib.pyplot as plt\n",
        "from sklearn.metrics import precision_recall_curve\n",
        "\n",
        "# Predict probabilities for the validation set\n",
        "y_pred = model.predict_proba(X_val)[:, 1]\n",
        "\n",
        "# Compute precision and recall at different thresholds\n",
        "precisions, recalls, thresholds = precision_recall_curve(df_val['deposit'], y_pred)\n",
        "\n",
        "# Plot precision and recall\n",
        "plt.plot(thresholds, precisions[:-1], label='Precision')\n",
        "plt.plot(thresholds, recalls[:-1], label='Recall')\n",
        "plt.xlabel('Threshold')\n",
        "plt.legend()\n",
        "plt.show()\n",
        "\n",
        "# Find where precision and recall intersect\n",
        "for i in range(len(thresholds)):\n",
        "    if abs(precisions[i] - recalls[i]) < 0.01:\n",
        "        print(f'Precision and recall intersect at threshold: {thresholds[i]:.3f}')\n",
        "        break\n"
      ],
      "metadata": {
        "colab": {
          "base_uri": "https://localhost:8080/",
          "height": 466
        },
        "id": "QlfnHcPeZLf0",
        "outputId": "0ae95ca2-133d-4a1b-d712-5bdc7f0e90af"
      },
      "execution_count": 12,
      "outputs": [
        {
          "output_type": "display_data",
          "data": {
            "text/plain": [
              "<Figure size 640x480 with 1 Axes>"
            ],
            "image/png": "[encoded data removed]"
          },
          "metadata": {}
        },
        {
          "output_type": "stream",
          "name": "stdout",
          "text": [
            "Precision and recall intersect at threshold: 0.031\n"
          ]
        }
      ]
    },
    {
      "cell_type": "markdown",
      "source": [
        "Answer:Since 0.031 is much smaller than the given options, the closest option available is 0.265.\n",
        "\n"
      ],
      "metadata": {
        "id": "TO95jF-GZxEP"
      }
    },
    {
      "cell_type": "markdown",
      "source": [
        "Question 4: F1 score\n",
        "Precision and recall are conflicting - when one grows, the other goes down. That's why they are often combined into the F1 score - a metrics that takes into account both\n",
        "\n",
        "This is the formula for computing F1:\n",
        "\n",
        "F\n",
        "1\n",
        "=\n",
        "2\n",
        "⋅\n",
        "P\n",
        "⋅\n",
        "R\n",
        "P\n",
        "+\n",
        "R\n",
        "\n",
        "Where\n",
        "P\n",
        " is precision and\n",
        "R\n",
        " is recall.\n",
        "\n",
        "Let's compute F1 for all thresholds from 0.0 to 1.0 with increment 0.01\n",
        "\n",
        "At which threshold F1 is maximal?\n",
        "\n",
        "0.02\n",
        "0.22\n",
        "0.42\n",
        "0.62"
      ],
      "metadata": {
        "id": "ljwwJuGvZ89m"
      }
    },
    {
      "cell_type": "code",
      "source": [
        "from sklearn.metrics import f1_score\n",
        "\n",
        "# Compute F1 score for each threshold\n",
        "f1_scores = []\n",
        "thresholds = np.arange(0.0, 1.0, 0.01)\n",
        "\n",
        "for t in thresholds:\n",
        "    y_pred_binary = (y_pred >= t).astype(int)\n",
        "    f1 = f1_score(df_val['deposit'], y_pred_binary)\n",
        "    f1_scores.append(f1)\n",
        "\n",
        "# Find the threshold where F1 score is maximal\n",
        "max_f1 = max(f1_scores)\n",
        "best_threshold = thresholds[f1_scores.index(max_f1)]\n",
        "\n",
        "print(f'Maximal F1 score: {max_f1:.3f} at threshold: {best_threshold:.2f}')\n"
      ],
      "metadata": {
        "colab": {
          "base_uri": "https://localhost:8080/"
        },
        "id": "fUXxmqW_aYiv",
        "outputId": "2545ee01-902c-44a4-d03b-7ee0bc828a2b"
      },
      "execution_count": 13,
      "outputs": [
        {
          "output_type": "stream",
          "name": "stdout",
          "text": [
            "Maximal F1 score: 1.000 at threshold: 0.89\n"
          ]
        }
      ]
    },
    {
      "cell_type": "markdown",
      "source": [
        "Answer:Since the result showed a threshold of 0.89, the closest option to this value is 0.62.\n",
        "\n"
      ],
      "metadata": {
        "id": "wGqUxLXKa7uU"
      }
    },
    {
      "cell_type": "markdown",
      "source": [
        "Question 5: 5-Fold CV\n",
        "Use the KFold class from Scikit-Learn to evaluate our model on 5 different folds:\n",
        "\n",
        "KFold(n_splits=5, shuffle=True, random_state=1)\n",
        "Iterate over different folds of df_full_train\n",
        "Split the data into train and validation\n",
        "Train the model on train with these parameters: LogisticRegression(solver='liblinear', C=1.0, max_iter=1000)\n",
        "Use AUC to evaluate the model on validation\n",
        "How large is standard deviation of the scores across different folds?\n",
        "\n",
        "0.0001\n",
        "0.006\n",
        "0.06\n",
        "0.26"
      ],
      "metadata": {
        "id": "fCFD6v44bA0V"
      }
    },
    {
      "cell_type": "code",
      "source": [
        "from sklearn.model_selection import KFold\n",
        "\n",
        "# Initialize KFold with 5 splits\n",
        "kf = KFold(n_splits=5, shuffle=True, random_state=1)\n",
        "\n",
        "# Perform cross-validation\n",
        "auc_scores = []\n",
        "\n",
        "for train_idx, val_idx in kf.split(df_full_train):\n",
        "    df_train_cv = df_full_train.iloc[train_idx]\n",
        "    df_val_cv = df_full_train.iloc[val_idx]\n",
        "\n",
        "    train_dict_cv = df_train_cv.to_dict(orient='records')\n",
        "    val_dict_cv = df_val_cv.to_dict(orient='records')\n",
        "\n",
        "    X_train_cv = dv.fit_transform(train_dict_cv)\n",
        "    X_val_cv = dv.transform(val_dict_cv)\n",
        "\n",
        "    model_cv = LogisticRegression(solver='liblinear', C=1.0, max_iter=1000)\n",
        "    model_cv.fit(X_train_cv, df_train_cv['deposit'])\n",
        "\n",
        "    y_pred_cv = model_cv.predict_proba(X_val_cv)[:, 1]\n",
        "    auc = roc_auc_score(df_val_cv['deposit'], y_pred_cv)\n",
        "    auc_scores.append(auc)\n",
        "\n",
        "# Compute the standard deviation of the AUC scores\n",
        "print(f'AUC scores: {auc_scores}')\n",
        "print(f'Standard deviation of AUC scores: {np.std(auc_scores):.4f}')\n"
      ],
      "metadata": {
        "colab": {
          "base_uri": "https://localhost:8080/"
        },
        "id": "GsojHaunbPQM",
        "outputId": "f3d12180-ac9b-4d0f-9153-189ef40c3746"
      },
      "execution_count": 14,
      "outputs": [
        {
          "output_type": "stream",
          "name": "stdout",
          "text": [
            "AUC scores: [1.0, 1.0, 1.0, 1.0, 1.0]\n",
            "Standard deviation of AUC scores: 0.0000\n"
          ]
        }
      ]
    },
    {
      "cell_type": "markdown",
      "source": [
        "Answers:0.0001"
      ],
      "metadata": {
        "id": "DQO0khglbj_B"
      }
    },
    {
      "cell_type": "markdown",
      "source": [
        "Question 6: Hyperparameter Tuning\n",
        "Now let's use 5-Fold cross-validation to find the best parameter C\n",
        "\n",
        "Iterate over the following C values: [0.000001, 0.001, 1]\n",
        "Initialize KFold with the same parameters as previously\n",
        "Use these parameters for the model: LogisticRegression(solver='liblinear', C=C, max_iter=1000)\n",
        "Compute the mean score as well as the std (round the mean and std to 3 decimal digits)\n",
        "Which C leads to the best mean score?\n",
        "\n",
        "0.000001\n",
        "0.001\n",
        "1\n",
        "If you have ties, select the score with the lowest std. If you still have ties, select the smallest C."
      ],
      "metadata": {
        "id": "HXy6UIrAbpqM"
      }
    },
    {
      "cell_type": "code",
      "source": [
        "# List of C values to evaluate\n",
        "C_values = [0.000001, 0.001, 1]\n",
        "\n",
        "# Perform cross-validation for each C value\n",
        "for C in C_values:\n",
        "    auc_scores = []\n",
        "\n",
        "    for train_idx, val_idx in kf.split(df_full_train):\n",
        "        df_train_cv = df_full_train.iloc[train_idx]\n",
        "        df_val_cv = df_full_train.iloc[val_idx]\n",
        "\n",
        "        train_dict_cv = df_train_cv.to_dict(orient='records')\n",
        "        val_dict_cv = df_val_cv.to_dict(orient='records')\n",
        "\n",
        "        X_train_cv = dv.fit_transform(train_dict_cv)\n",
        "        X_val_cv = dv.transform(val_dict_cv)\n",
        "\n",
        "        model_cv = LogisticRegression(solver='liblinear', C=C, max_iter=1000)\n",
        "        model_cv.fit(X_train_cv, df_train_cv['deposit'])\n",
        "\n",
        "        y_pred_cv = model_cv.predict_proba(X_val_cv)[:, 1]\n",
        "        auc = roc_auc_score(df_val_cv['deposit'], y_pred_cv)\n",
        "        auc_scores.append(auc)\n",
        "\n",
        "    print(f'C={C}: Mean AUC={np.mean(auc_scores):.3f}, Std AUC={np.std(auc_scores):.3f}')\n"
      ],
      "metadata": {
        "colab": {
          "base_uri": "https://localhost:8080/"
        },
        "id": "3rTEhbmWbyAI",
        "outputId": "5e56b99d-0a8c-45be-d600-dfa25c2a3d8b"
      },
      "execution_count": 15,
      "outputs": [
        {
          "output_type": "stream",
          "name": "stdout",
          "text": [
            "C=1e-06: Mean AUC=0.796, Std AUC=0.005\n",
            "C=0.001: Mean AUC=0.956, Std AUC=0.003\n",
            "C=1: Mean AUC=1.000, Std AUC=0.000\n"
          ]
        }
      ]
    },
    {
      "cell_type": "markdown",
      "source": [
        "Answer: 1"
      ],
      "metadata": {
        "id": "TcD1PdzicjO-"
      }
    }
  ],
  "metadata": {
    "colab": {
      "provenance": [],
      "authorship_tag": "ABX9TyMllO60H1x1ZHaAfv0umtps",
      "include_colab_link": true
    },
    "kernelspec": {
      "display_name": "Python 3",
      "name": "python3"
    },
    "language_info": {
      "name": "python"
    }
  },
  "nbformat": 4,
  "nbformat_minor": 0
}