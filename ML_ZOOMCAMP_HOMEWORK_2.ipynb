{
  "nbformat": 4,
  "nbformat_minor": 0,
  "metadata": {
    "colab": {
      "provenance": [],
      "authorship_tag": "ABX9TyOXb0JpXjtYXq2mLj/AtCyT",
      "include_colab_link": true
    },
    "kernelspec": {
      "name": "python3",
      "display_name": "Python 3"
    },
    "language_info": {
      "name": "python"
    }
  },
  "cells": [
    {
      "cell_type": "markdown",
      "metadata": {
        "id": "view-in-github",
        "colab_type": "text"
      },
      "source": [
        "<a href=\"https://colab.research.google.com/github/AnmolSikandar/docs/blob/main/ML_ZOOMCAMP_HOMEWORK_2.ipynb\" target=\"_parent\"><img src=\"https://colab.research.google.com/assets/colab-badge.svg\" alt=\"Open In Colab\"/></a>"
      ]
    },
    {
      "cell_type": "markdown",
      "source": [
        "Load the dataset:"
      ],
      "metadata": {
        "id": "YFOu_FOucQGl"
      }
    },
    {
      "cell_type": "code",
      "source": [
        "!wget https://raw.githubusercontent.com/alexeygrigorev/datasets/master/laptops.csv\n"
      ],
      "metadata": {
        "colab": {
          "base_uri": "https://localhost:8080/"
        },
        "id": "Jy8zTBjucaHV",
        "outputId": "51bb3a5e-95ef-435a-a806-fe84eb8ccdc1"
      },
      "execution_count": 1,
      "outputs": [
        {
          "output_type": "stream",
          "name": "stdout",
          "text": [
            "--2024-10-08 14:03:44--  https://raw.githubusercontent.com/alexeygrigorev/datasets/master/laptops.csv\n",
            "Resolving raw.githubusercontent.com (raw.githubusercontent.com)... 185.199.108.133, 185.199.109.133, 185.199.110.133, ...\n",
            "Connecting to raw.githubusercontent.com (raw.githubusercontent.com)|185.199.108.133|:443... connected.\n",
            "HTTP request sent, awaiting response... 200 OK\n",
            "Length: 298573 (292K) [text/plain]\n",
            "Saving to: ‘laptops.csv’\n",
            "\n",
            "\rlaptops.csv           0%[                    ]       0  --.-KB/s               \rlaptops.csv         100%[===================>] 291.58K  --.-KB/s    in 0.03s   \n",
            "\n",
            "2024-10-08 14:03:44 (10.6 MB/s) - ‘laptops.csv’ saved [298573/298573]\n",
            "\n"
          ]
        }
      ]
    },
    {
      "cell_type": "markdown",
      "source": [
        "Load the CSV file into a DataFrame: After downloading the file, you can load it using pandas:"
      ],
      "metadata": {
        "id": "70TTmOt-cmWQ"
      }
    },
    {
      "cell_type": "code",
      "source": [
        "import pandas as pd\n",
        "df = pd.read_csv('laptops.csv')\n"
      ],
      "metadata": {
        "id": "MjZ3Z6Qvcpys"
      },
      "execution_count": 2,
      "outputs": []
    },
    {
      "cell_type": "markdown",
      "source": [
        "Normalize the column names:\n"
      ],
      "metadata": {
        "id": "hMw9K8aKdNtU"
      }
    },
    {
      "cell_type": "code",
      "source": [
        "df.columns = df.columns.str.lower().str.replace(' ', '_')\n"
      ],
      "metadata": {
        "id": "x2uoaw-JdUU2"
      },
      "execution_count": 6,
      "outputs": []
    },
    {
      "cell_type": "markdown",
      "source": [
        "Exploratory Data Analysis (EDA)\n",
        "Visualize the distribution of final_price: You can use matplotlib to plot the distribution of prices:"
      ],
      "metadata": {
        "id": "J948JCMvdgh-"
      }
    },
    {
      "cell_type": "code",
      "source": [
        "import matplotlib.pyplot as plt\n",
        "df['final_price'].hist(bins=50)\n",
        "plt.xlabel('Final Price')\n",
        "plt.ylabel('Frequency')\n",
        "plt.show()\n"
      ],
      "metadata": {
        "colab": {
          "base_uri": "https://localhost:8080/",
          "height": 449
        },
        "id": "sR8p4jHedhwU",
        "outputId": "c2adf3ae-7f0b-48f4-e633-47fdc01b72c9"
      },
      "execution_count": 7,
      "outputs": [
        {
          "output_type": "display_data",
          "data": {
            "text/plain": [
              "<Figure size 640x480 with 1 Axes>"
            ],
            "image/png": "[encoded data removed]"
          },
          "metadata": {}
        }
      ]
    },
    {
      "cell_type": "markdown",
      "source": [
        "Check for missing values in each column: Question 1\n",
        "\n",
        "\n",
        "\n"
      ],
      "metadata": {
        "id": "EJLJMaGLdu45"
      }
    },
    {
      "cell_type": "code",
      "source": [
        "df.isnull().sum()\n"
      ],
      "metadata": {
        "colab": {
          "base_uri": "https://localhost:8080/",
          "height": 460
        },
        "id": "5tUJDGzyd5wS",
        "outputId": "f21efb0f-928f-4a98-b4ef-242b73efc84c"
      },
      "execution_count": 8,
      "outputs": [
        {
          "output_type": "execute_result",
          "data": {
            "text/plain": [
              "laptop             0\n",
              "status             0\n",
              "brand              0\n",
              "model              0\n",
              "cpu                0\n",
              "ram                0\n",
              "storage            0\n",
              "storage_type      42\n",
              "gpu             1371\n",
              "screen             4\n",
              "touch              0\n",
              "final_price        0\n",
              "dtype: int64"
            ],
            "text/html": [
              "<div>\n",
              "<style scoped>\n",
              "    .dataframe tbody tr th:only-of-type {\n",
              "        vertical-align: middle;\n",
              "    }\n",
              "\n",
              "    .dataframe tbody tr th {\n",
              "        vertical-align: top;\n",
              "    }\n",
              "\n",
              "    .dataframe thead th {\n",
              "        text-align: right;\n",
              "    }\n",
              "</style>\n",
              "<table border=\"1\" class=\"dataframe\">\n",
              "  <thead>\n",
              "    <tr style=\"text-align: right;\">\n",
              "      <th></th>\n",
              "      <th>0</th>\n",
              "    </tr>\n",
              "  </thead>\n",
              "  <tbody>\n",
              "    <tr>\n",
              "      <th>laptop</th>\n",
              "      <td>0</td>\n",
              "    </tr>\n",
              "    <tr>\n",
              "      <th>status</th>\n",
              "      <td>0</td>\n",
              "    </tr>\n",
              "    <tr>\n",
              "      <th>brand</th>\n",
              "      <td>0</td>\n",
              "    </tr>\n",
              "    <tr>\n",
              "      <th>model</th>\n",
              "      <td>0</td>\n",
              "    </tr>\n",
              "    <tr>\n",
              "      <th>cpu</th>\n",
              "      <td>0</td>\n",
              "    </tr>\n",
              "    <tr>\n",
              "      <th>ram</th>\n",
              "      <td>0</td>\n",
              "    </tr>\n",
              "    <tr>\n",
              "      <th>storage</th>\n",
              "      <td>0</td>\n",
              "    </tr>\n",
              "    <tr>\n",
              "      <th>storage_type</th>\n",
              "      <td>42</td>\n",
              "    </tr>\n",
              "    <tr>\n",
              "      <th>gpu</th>\n",
              "      <td>1371</td>\n",
              "    </tr>\n",
              "    <tr>\n",
              "      <th>screen</th>\n",
              "      <td>4</td>\n",
              "    </tr>\n",
              "    <tr>\n",
              "      <th>touch</th>\n",
              "      <td>0</td>\n",
              "    </tr>\n",
              "    <tr>\n",
              "      <th>final_price</th>\n",
              "      <td>0</td>\n",
              "    </tr>\n",
              "  </tbody>\n",
              "</table>\n",
              "</div><br><label><b>dtype:</b> int64</label>"
            ]
          },
          "metadata": {},
          "execution_count": 8
        }
      ]
    },
    {
      "cell_type": "markdown",
      "source": [
        "Median of the ram Column: Question 2"
      ],
      "metadata": {
        "id": "Fqn46_wbeD89"
      }
    },
    {
      "cell_type": "code",
      "source": [
        "ram_median = df['ram'].median()\n",
        "print(f\"Median of RAM: {ram_median}\")\n"
      ],
      "metadata": {
        "colab": {
          "base_uri": "https://localhost:8080/"
        },
        "id": "kkAQlS-5eLnr",
        "outputId": "7e50fff5-fb88-4776-c8ae-a7548fb8b376"
      },
      "execution_count": 9,
      "outputs": [
        {
          "output_type": "stream",
          "name": "stdout",
          "text": [
            "Median of RAM: 16.0\n"
          ]
        }
      ]
    },
    {
      "cell_type": "markdown",
      "source": [
        "Prepare and Split the Dataset:\n",
        "Shuffle the dataset using seed 42:"
      ],
      "metadata": {
        "id": "q1K-5bWMeRm5"
      }
    },
    {
      "cell_type": "code",
      "source": [
        "df_filtered = df[['ram', 'storage', 'screen', 'final_price']]\n",
        "df_filtered = df_filtered.sample(frac=1, random_state=42)\n"
      ],
      "metadata": {
        "id": "JV2vXv43ecuw"
      },
      "execution_count": 11,
      "outputs": []
    },
    {
      "cell_type": "markdown",
      "source": [
        "Split the dataset: You can use train_test_split from sklearn to split the dataset:"
      ],
      "metadata": {
        "id": "1byiC-7feohw"
      }
    },
    {
      "cell_type": "code",
      "source": [
        "from sklearn.model_selection import train_test_split\n",
        "\n",
        "df_train, df_temp = train_test_split(df_filtered, test_size=0.4, random_state=42)\n",
        "df_val, df_test = train_test_split(df_temp, test_size=0.5, random_state=42)\n"
      ],
      "metadata": {
        "id": "I5ij3JoyevN5"
      },
      "execution_count": 13,
      "outputs": []
    },
    {
      "cell_type": "markdown",
      "source": [
        " Handling Missing Values (Question 3):\n",
        " Fill missing values with 0:"
      ],
      "metadata": {
        "id": "M9gk1X0re7JG"
      }
    },
    {
      "cell_type": "code",
      "source": [
        "df_train_filled_0 = df_train.fillna(0)\n"
      ],
      "metadata": {
        "id": "dl3fO1iMfA9x"
      },
      "execution_count": 20,
      "outputs": []
    },
    {
      "cell_type": "markdown",
      "source": [
        "Fill missing values with the mean (training data only):"
      ],
      "metadata": {
        "id": "7ZzBSJhNfSCC"
      }
    },
    {
      "cell_type": "code",
      "source": [
        "mean_value = df_train.mean()\n",
        "df_train_filled_mean = df_train.fillna(mean_value)\n"
      ],
      "metadata": {
        "id": "qr2EqU55fTnt"
      },
      "execution_count": 21,
      "outputs": []
    },
    {
      "cell_type": "markdown",
      "source": [
        "Train the Linear Regression model: You can train and evaluate your models using LinearRegression from sklearn:"
      ],
      "metadata": {
        "id": "bebYVPrJfb5J"
      }
    },
    {
      "cell_type": "code",
      "source": [
        "from sklearn.linear_model import LinearRegression\n",
        "from sklearn.metrics import mean_squared_error\n",
        "import numpy as np\n",
        "\n",
        "# Model with missing values filled with 0\n",
        "model_0 = LinearRegression()\n",
        "model_0.fit(df_train_filled_0[['ram', 'storage', 'screen']], df_train_filled_0['final_price'])\n",
        "y_pred_val_0 = model_0.predict(df_val.fillna(0)[['ram', 'storage', 'screen']])\n",
        "rmse_0 = np.sqrt(mean_squared_error(df_val['final_price'], y_pred_val_0))\n",
        "\n",
        "# Model with missing values filled with mean\n",
        "model_mean = LinearRegression()\n",
        "model_mean.fit(df_train_filled_mean[['ram', 'storage', 'screen']], df_train_filled_mean['final_price'])\n",
        "y_pred_val_mean = model_mean.predict(df_val.fillna(mean_value)[['ram', 'storage', 'screen']])\n",
        "rmse_mean = np.sqrt(mean_squared_error(df_val['final_price'], y_pred_val_mean))\n",
        "\n",
        "print(f\"RMSE with 0: {round(rmse_0, 2)}\")\n",
        "print(f\"RMSE with mean: {round(rmse_mean, 2)}\")\n"
      ],
      "metadata": {
        "colab": {
          "base_uri": "https://localhost:8080/"
        },
        "id": "j25hql6rfhUf",
        "outputId": "d6735cb9-a35f-475f-c27e-46b5cacbda8b"
      },
      "execution_count": 16,
      "outputs": [
        {
          "output_type": "stream",
          "name": "stdout",
          "text": [
            "RMSE with 0: 675.08\n",
            "RMSE with mean: 675.16\n"
          ]
        }
      ]
    },
    {
      "cell_type": "markdown",
      "source": [
        "Regularized Linear Regression (Question 4):\n",
        "Train Ridge Regression with different values of r:"
      ],
      "metadata": {
        "id": "G7M6hbYbfrAk"
      }
    },
    {
      "cell_type": "code",
      "source": [
        "from sklearn.linear_model import Ridge\n",
        "\n",
        "for r in [0, 0.01, 0.1, 1, 5, 10, 100]:\n",
        "    model_ridge = Ridge(alpha=r)\n",
        "    model_ridge.fit(df_train_filled_0[['ram', 'storage', 'screen']], df_train_filled_0['final_price'])\n",
        "    y_pred_val_ridge = model_ridge.predict(df_val.fillna(0)[['ram', 'storage', 'screen']])\n",
        "    rmse_ridge = np.sqrt(mean_squared_error(df_val['final_price'], y_pred_val_ridge))\n",
        "    print(f\"RMSE with r={r}: {round(rmse_ridge, 2)}\")\n"
      ],
      "metadata": {
        "colab": {
          "base_uri": "https://localhost:8080/"
        },
        "id": "vK37HMEqf4oK",
        "outputId": "7bcf9c83-c238-4b0e-d8a3-046a29e8fd76"
      },
      "execution_count": 17,
      "outputs": [
        {
          "output_type": "stream",
          "name": "stdout",
          "text": [
            "RMSE with r=0: 675.08\n",
            "RMSE with r=0.01: 675.08\n",
            "RMSE with r=0.1: 675.08\n",
            "RMSE with r=1: 675.08\n",
            "RMSE with r=5: 675.08\n",
            "RMSE with r=10: 675.08\n",
            "RMSE with r=100: 675.01\n"
          ]
        }
      ]
    },
    {
      "cell_type": "markdown",
      "source": [
        "Influence of Seed (Question 5):\n",
        "Try different seeds and collect RMSE:\n"
      ],
      "metadata": {
        "id": "IWn5fOFkgS2Y"
      }
    },
    {
      "cell_type": "code",
      "source": [
        "rmse_list = []\n",
        "\n",
        "for seed in range(10):\n",
        "    df_train, df_temp = train_test_split(df_filtered, test_size=0.4, random_state=seed)\n",
        "    df_val, df_test = train_test_split(df_temp, test_size=0.5, random_state=seed)\n",
        "\n",
        "    model = LinearRegression()\n",
        "    model.fit(df_train.fillna(0)[['ram', 'storage', 'screen']], df_train['final_price'])\n",
        "    y_pred_val = model.predict(df_val.fillna(0)[['ram', 'storage', 'screen']])\n",
        "    rmse = np.sqrt(mean_squared_error(df_val['final_price'], y_pred_val))\n",
        "    rmse_list.append(rmse)\n",
        "\n",
        "std_dev = np.std(rmse_list)\n",
        "print(f\"Standard deviation: {round(std_dev, 3)}\")\n"
      ],
      "metadata": {
        "colab": {
          "base_uri": "https://localhost:8080/"
        },
        "id": "Ybdqt2DOggGA",
        "outputId": "1ba480ea-917c-4800-a870-305e8676258f"
      },
      "execution_count": 18,
      "outputs": [
        {
          "output_type": "stream",
          "name": "stdout",
          "text": [
            "Standard deviation: 29.442\n"
          ]
        }
      ]
    },
    {
      "cell_type": "markdown",
      "source": [
        "Final Test with Regularization (Question 6)\n",
        "Combine the training and validation datasets, then train with r=0.001"
      ],
      "metadata": {
        "id": "HlMPCJHxgjRn"
      }
    },
    {
      "cell_type": "code",
      "source": [
        "df_train_full = pd.concat([df_train, df_val])\n",
        "model_final = Ridge(alpha=0.001)\n",
        "model_final.fit(df_train_full.fillna(0)[['ram', 'storage', 'screen']], df_train_full['final_price'])\n",
        "\n",
        "# Test the model on the test dataset\n",
        "y_pred_test = model_final.predict(df_test.fillna(0)[['ram', 'storage', 'screen']])\n",
        "rmse_test = np.sqrt(mean_squared_error(df_test['final_price'], y_pred_test))\n",
        "print(f\"RMSE on test set: {round(rmse_test, 2)}\")\n"
      ],
      "metadata": {
        "colab": {
          "base_uri": "https://localhost:8080/"
        },
        "id": "hTrk-Czzg0pn",
        "outputId": "d8f9321b-5bea-4895-cff5-31991bd3007d"
      },
      "execution_count": 19,
      "outputs": [
        {
          "output_type": "stream",
          "name": "stdout",
          "text": [
            "RMSE on test set: 537.15\n"
          ]
        }
      ]
    }
  ]
}